{
 "cells": [
  {
   "cell_type": "code",
   "execution_count": 1,
   "id": "1942d4d0",
   "metadata": {},
   "outputs": [],
   "source": [
    "import pandas as pd\n",
    "from bs4 import BeautifulSoup\n"
   ]
  },
  {
   "cell_type": "code",
   "execution_count": 7,
   "id": "15c53e0f",
   "metadata": {},
   "outputs": [],
   "source": [
    "questions = pd.read_csv(\"Questions.csv\", encoding='latin1', nrows=5000)\n",
    "answers = pd.read_csv(\"Answers.csv\", encoding='latin1', nrows=5000)\n",
    "tags = pd.read_csv(\"Tags.csv\", encoding='latin1', nrows=5000)\n"
   ]
  },
  {
   "cell_type": "code",
   "execution_count": 8,
   "id": "9b9fe79a",
   "metadata": {},
   "outputs": [
    {
     "name": "stderr",
     "output_type": "stream",
     "text": [
      "C:\\Users\\NTC\\AppData\\Local\\Temp\\ipykernel_30376\\1027296034.py:2: MarkupResemblesLocatorWarning: The input passed in on this line looks more like a filename than HTML or XML.\n",
      "\n",
      "If you meant to use Beautiful Soup to parse the contents of a file on disk, then something has gone wrong. You should open the file first, using code like this:\n",
      "\n",
      "    filehandle = open(your filename)\n",
      "\n",
      "You can then feed the open filehandle into Beautiful Soup instead of using the filename.\n",
      "\n",
      "However, if you want to parse some data that happens to look like a filename, then nothing has gone wrong: you are using Beautiful Soup correctly, and this warning is spurious and can be filtered. To make this warning go away, run this code before calling the BeautifulSoup constructor:\n",
      "\n",
      "    from bs4 import MarkupResemblesLocatorWarning\n",
      "    import warnings\n",
      "\n",
      "    warnings.filterwarnings(\"ignore\", category=MarkupResemblesLocatorWarning)\n",
      "    \n",
      "  return BeautifulSoup(str(raw_html), \"html.parser\").get_text()\n"
     ]
    }
   ],
   "source": [
    "def clean_html(raw_html):\n",
    "    return BeautifulSoup(str(raw_html), \"html.parser\").get_text()\n",
    "\n",
    "questions['Body'] = questions['Body'].apply(clean_html)\n",
    "questions['Title'] = questions['Title'].apply(clean_html)\n",
    "answers['Body'] = answers['Body'].apply(clean_html)\n"
   ]
  },
  {
   "cell_type": "code",
   "execution_count": 9,
   "id": "b1abbee1",
   "metadata": {},
   "outputs": [],
   "source": [
    "questions.dropna(subset=['Body', 'Title'], inplace=True)\n",
    "answers.dropna(subset=['Body'], inplace=True)\n"
   ]
  },
  {
   "cell_type": "code",
   "execution_count": 10,
   "id": "1ec392f5",
   "metadata": {},
   "outputs": [],
   "source": [
    "answers = answers[answers['Score'] > 5]\n",
    "questions = questions[questions['Score'] > 5]\n"
   ]
  },
  {
   "cell_type": "code",
   "execution_count": 11,
   "id": "a8c83725",
   "metadata": {},
   "outputs": [],
   "source": [
    "merged_df = pd.merge(answers, questions, left_on='ParentId', right_on='Id', suffixes=('_Answer', '_Question'))\n"
   ]
  },
  {
   "cell_type": "code",
   "execution_count": 12,
   "id": "3d071b5b",
   "metadata": {},
   "outputs": [],
   "source": [
    "tags_grouped = tags.groupby('Id')['Tag'].apply(list).reset_index()\n",
    "merged_df = pd.merge(merged_df, tags_grouped, left_on='Id_Question', right_on='Id', how='left').drop(columns=['Id'])\n"
   ]
  },
  {
   "cell_type": "code",
   "execution_count": 13,
   "id": "2d0d6381",
   "metadata": {},
   "outputs": [],
   "source": [
    "merged_df = merged_df.sort_values(by='Score_Answer', ascending=False).head(5000)\n"
   ]
  },
  {
   "cell_type": "code",
   "execution_count": 14,
   "id": "a8492058",
   "metadata": {},
   "outputs": [],
   "source": [
    "merged_df.to_csv(\"cleaned_stackoverflow.csv\", index=False)\n"
   ]
  }
 ],
 "metadata": {
  "kernelspec": {
   "display_name": "Python 3",
   "language": "python",
   "name": "python3"
  },
  "language_info": {
   "codemirror_mode": {
    "name": "ipython",
    "version": 3
   },
   "file_extension": ".py",
   "mimetype": "text/x-python",
   "name": "python",
   "nbconvert_exporter": "python",
   "pygments_lexer": "ipython3",
   "version": "3.11.0"
  }
 },
 "nbformat": 4,
 "nbformat_minor": 5
}
